{
 "cells": [
  {
   "cell_type": "code",
   "execution_count": 4,
   "metadata": {},
   "outputs": [],
   "source": [
    "    \n",
    "import streamlit as st\n",
    "import pandas as pd\n",
    "import requests\n",
    "import io\n",
    "import plotly.express as px# GitHub repository information\n",
    "owner = \"tbrost\"  # Replace with your GitHub username or organization name\n",
    "repo = \"ag-econ-data\"  # Replace with your repository name\n",
    "file_path = \"data/Cash_Data.csv\"  # Replace with the path to your CSV file within the repo\n",
    "access_token = st.secrets[\"token\"]  # Replace with your personal access token\n",
    "\n",
    "# Construct the raw file URL with the access token\n",
    "raw_url = f\"https://raw.githubusercontent.com/{owner}/{repo}/main/{file_path}\"\n",
    "headers = {\"Authorization\": f\"token {access_token}\"}\n",
    "\n",
    "# Make a GET request to the raw file URL\n",
    "response = requests.get(raw_url, headers=headers)\n",
    "df = pd.read_csv(io.StringIO(response.text))\n",
    "df2 = df[['Location','year','week_of_year', 'Attribute','Value']]\n",
    "\n",
    "df_pivot = df.pivot(index=['Attribute','week_of_year', 'Location', 'Contract', 'Date'], columns=['year'], values='Value')\n",
    "df_pivot['Average'] = df_pivot.mean(axis=1)\n",
    "df_pivot['Median'] = df_pivot.median(axis=1)\n",
    "df_pivot['Max'] = df_pivot.max(axis=1)\n",
    "df_pivot['Min'] = df_pivot.min(axis=1)\n",
    "df_pivot['Standard Deviation'] = df_pivot.std(axis=1)\n",
    "\n",
    "df_pivot = df_pivot.reset_index(names=['Attribute', 'week of year', 'Location', 'Contract', 'Date'])"
   ]
  }
 ],
 "metadata": {
  "kernelspec": {
   "display_name": "Python 3",
   "language": "python",
   "name": "python3"
  },
  "language_info": {
   "codemirror_mode": {
    "name": "ipython",
    "version": 3
   },
   "file_extension": ".py",
   "mimetype": "text/x-python",
   "name": "python",
   "nbconvert_exporter": "python",
   "pygments_lexer": "ipython3",
   "version": "3.11.4"
  },
  "orig_nbformat": 4
 },
 "nbformat": 4,
 "nbformat_minor": 2
}
